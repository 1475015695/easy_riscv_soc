{
 "cells": [
  {
   "cell_type": "code",
   "execution_count": 16,
   "metadata": {},
   "outputs": [
    {
     "name": "stdout",
     "output_type": "stream",
     "text": [
      "Done!\n"
     ]
    }
   ],
   "source": [
    "import serial\n",
    "import time\n",
    "ser=serial.Serial(port=\"COM7\",baudrate=115200,timeout=0.5)\n",
    "ser.write(b'\\x5a')\n",
    "time.sleep(0.001)\n",
    "ser.write(b'\\xa5')\n",
    "time.sleep(0.001)\n",
    "ser.write(b'\\x0f')\n",
    "time.sleep(0.001)\n",
    "ser.write(b'\\xf0')\n",
    "time.sleep(0.001)\n",
    "while(ser.read(1)!=b'\\x01'):\n",
    "    ser.write(b'\\x5a')\n",
    "    time.sleep(0.001)\n",
    "    ser.write(b'\\xa5')\n",
    "    time.sleep(0.001)\n",
    "    ser.write(b'\\x0f')\n",
    "    time.sleep(0.001)\n",
    "    ser.write(b'\\xf0')\n",
    "    time.sleep(0.001)\n",
    "\n",
    "with open(\"main.bin\",\"rb\") as source_file:\n",
    "    temp_lines=source_file.read()\n",
    "for i in range(len(temp_lines)//4):\n",
    "    # ser.write(bytes([temp_lines[i*4+3],temp_lines[i*4+2],temp_lines[i*4+1],temp_lines[i*4+0]]))\n",
    "    ser.write(bytes([temp_lines[i*4+3]]))\n",
    "    time.sleep(0.001)\n",
    "    ser.write(bytes([temp_lines[i*4+2]]))\n",
    "    time.sleep(0.001)\n",
    "    ser.write(bytes([temp_lines[i*4+1]]))\n",
    "    time.sleep(0.001)\n",
    "    ser.write(bytes([temp_lines[i*4+0]]))\n",
    "    time.sleep(0.001)\n",
    "    \n",
    "while(ser.read(1)!=b'\\x02'):       \n",
    "    ser.write(b'\\xf0')\n",
    "    time.sleep(0.001)\n",
    "    ser.write(b'\\x0f')\n",
    "    time.sleep(0.001)\n",
    "    ser.write(b'\\xa5')\n",
    "    time.sleep(0.001)\n",
    "    ser.write(b'\\x5a')\n",
    "ser.close()\n",
    "print(\"Done!\")\n"
   ]
  },
  {
   "cell_type": "code",
   "execution_count": 11,
   "metadata": {},
   "outputs": [],
   "source": [
    "ser.close()"
   ]
  },
  {
   "cell_type": "code",
   "execution_count": 36,
   "metadata": {},
   "outputs": [
    {
     "name": "stdout",
     "output_type": "stream",
     "text": [
      "Done!\n"
     ]
    }
   ],
   "source": [
    "ser.write(b'\\xf0')\n",
    "time.sleep(0.001)\n",
    "ser.write(b'\\x0f')\n",
    "time.sleep(0.001)\n",
    "ser.write(b'\\xa5')\n",
    "time.sleep(0.001)\n",
    "ser.write(b'\\x5a')\n",
    "print(\"Done!\")"
   ]
  },
  {
   "cell_type": "code",
   "execution_count": 23,
   "metadata": {},
   "outputs": [
    {
     "ename": "TypeError",
     "evalue": "'str' object cannot be interpreted as an integer",
     "output_type": "error",
     "traceback": [
      "\u001b[1;31m---------------------------------------------------------------------------\u001b[0m",
      "\u001b[1;31mTypeError\u001b[0m                                 Traceback (most recent call last)",
      "\u001b[1;32m~\\AppData\\Local\\Temp/ipykernel_13776/3601924808.py\u001b[0m in \u001b[0;36m<module>\u001b[1;34m\u001b[0m\n\u001b[1;32m----> 1\u001b[1;33m \u001b[0mbytes\u001b[0m\u001b[1;33m(\u001b[0m\u001b[1;33m[\u001b[0m\u001b[1;34m\"93\"\u001b[0m\u001b[1;33m]\u001b[0m\u001b[1;33m)\u001b[0m\u001b[1;33m\u001b[0m\u001b[1;33m\u001b[0m\u001b[0m\n\u001b[0m",
      "\u001b[1;31mTypeError\u001b[0m: 'str' object cannot be interpreted as an integer"
     ]
    }
   ],
   "source": [
    "ser.write(\"93\")"
   ]
  },
  {
   "cell_type": "code",
   "execution_count": 26,
   "metadata": {},
   "outputs": [
    {
     "name": "stdout",
     "output_type": "stream",
     "text": [
      "740\n"
     ]
    },
    {
     "data": {
      "text/plain": [
       "b'\\x93'"
      ]
     },
     "execution_count": 26,
     "metadata": {},
     "output_type": "execute_result"
    }
   ],
   "source": [
    "with open(\"main.bin\",\"rb\") as source_file:\n",
    "    temp_lines=source_file.read()\n",
    "for i in range(len(temp_lines)//4):\n",
    "    ser.write(i*4+3)\n",
    "    ser.write(i*4+2)\n",
    "    ser.write(i*4+1)\n",
    "    ser.write(i*4)\n",
    "print(len(temp_lines))\n",
    "bytes([temp_lines[0],temp_lines[1],temp_lines[2],temp_lines[4]])"
   ]
  },
  {
   "cell_type": "code",
   "execution_count": null,
   "metadata": {},
   "outputs": [],
   "source": [
    "count=0\n",
    "for i in range(len(temp_lines)//4):\n",
    "    ser.write(i*4+3)\n",
    "    ser.write(i*4+2)\n",
    "    ser.write(i*4+1)\n",
    "    ser.write(i*4)\n",
    "\n"
   ]
  },
  {
   "cell_type": "code",
   "execution_count": 47,
   "metadata": {},
   "outputs": [
    {
     "name": "stdout",
     "output_type": "stream",
     "text": [
      "b'\\x00\\x00\\x00\\x93'\n",
      "b'\\x00\\x00\\x01\\x93'\n",
      "b'\\x00\\x00\\x02\\x13'\n",
      "b'\\x00\\x00\\x04\\x13'\n",
      "b'\\x80\\x00\\x81\\x17'\n",
      "b'\\xff\\x01\\x01\\x13'\n",
      "b'.@\\x02\\x93'\n",
      "b'\\x80\\x00\\x03\\x17'\n",
      "b'\\xfeC\\x03\\x13'\n",
      "b'\\x80\\x00\\x03\\x97'\n",
      "b'\\xfd\\xc3\\x83\\x93'\n",
      "b'\\x00sNc'\n",
      "b'\\x80\\x00\\x02\\x97'\n",
      "b'\\xfd\\x02\\x82\\x93'\n",
      "b'\\x80\\x00\\x03\\x17'\n",
      "b'\\xfc\\xc3\\x03\\x13'\n",
      "b'\\x02b\\xc0c'\n",
      "b' \\x80\\x00\\xef'\n",
      "b'\\x00\\x02\\xae\\x03'\n",
      "b'\\x01\\xc3 #'\n",
      "b'\\x00C\\x03\\x13'\n",
      "b'\\x00B\\x82\\x93'\n",
      "b'\\xfesH\\xe3'\n",
      "b'\\xfd_\\xf0o'\n",
      "b'\\x00\\x02\\xa0#'\n",
      "b'\\x00B\\x82\\x93'\n",
      "b'\\xfeb\\xcc\\xe3'\n",
      "b'\\xfd\\x9f\\xf0o'\n",
      "b'\\x00\\x00\\x00o'\n",
      "b'\\xf8A\\x01\\x13'\n",
      "b'\\x00\\x11 #'\n",
      "b'\\x00!\"#'\n",
      "b'\\x001$#'\n",
      "b'\\x00A&#'\n",
      "b'\\x00Q(#'\n",
      "b'\\x00a*#'\n",
      "b'\\x00q,#'\n",
      "b'\\x00\\x81.#'\n",
      "b'\\x02\\x91 #'\n",
      "b'\\x02\\xa1\"#'\n",
      "b'\\x02\\xb1$#'\n",
      "b'\\x02\\xc1&#'\n",
      "b'\\x02\\xd1(#'\n",
      "b'\\x02\\xe1*#'\n",
      "b'\\x02\\xf1,#'\n",
      "b'\\x03\\x01.#'\n",
      "b'\\x05\\x11 #'\n",
      "b'\\x05!\"#'\n",
      "b'\\x051$#'\n",
      "b'\\x05A&#'\n",
      "b'\\x05Q(#'\n",
      "b'\\x05a*#'\n",
      "b'\\x05q,#'\n",
      "b'\\x05\\x81.#'\n",
      "b'\\x07\\x91 #'\n",
      "b'\\x07\\xa1\"#'\n",
      "b'\\x07\\xb1$#'\n",
      "b'\\x07\\xc1&#'\n",
      "b'\\x07\\xd1(#'\n",
      "b'\\x07\\xe1*#'\n",
      "b'\\x07\\xf1,#'\n",
      "b'\\x08@\\x00\\xef'\n",
      "b'\\x00\\x01 \\x83'\n",
      "b'\\x00A!\\x03'\n",
      "b'\\x00\\x81!\\x83'\n",
      "b'\\x00\\xc1\"\\x03'\n",
      "b'\\x01\\x01\"\\x83'\n",
      "b'\\x01A#\\x03'\n",
      "b'\\x01\\x81#\\x83'\n",
      "b'\\x01\\xc1$\\x03'\n",
      "b'\\x02\\x01$\\x83'\n",
      "b'\\x02A%\\x03'\n",
      "b'\\x02\\x81%\\x83'\n",
      "b'\\x02\\xc1&\\x03'\n",
      "b'\\x03\\x01&\\x83'\n",
      "b\"\\x03A'\\x03\"\n",
      "b\"\\x03\\x81'\\x83\"\n",
      "b'\\x03\\xc1(\\x03'\n",
      "b'\\x04\\x01(\\x83'\n",
      "b'\\x04A)\\x03'\n",
      "b'\\x04\\x81)\\x83'\n",
      "b'\\x04\\xc1*\\x03'\n",
      "b'\\x05\\x01*\\x83'\n",
      "b'\\x05A+\\x03'\n",
      "b'\\x05\\x81+\\x83'\n",
      "b'\\x05\\xc1,\\x03'\n",
      "b'\\x06\\x01,\\x83'\n",
      "b'\\x06A-\\x03'\n",
      "b'\\x06\\x81-\\x83'\n",
      "b'\\x06\\xc1.\\x03'\n",
      "b'\\x07\\x01.\\x83'\n",
      "b'\\x07A/\\x03'\n",
      "b'\\x07\\x81/\\x83'\n",
      "b'0 \\x00s'\n",
      "b'\\xff\\x01\\x01\\x13'\n",
      "b'\\x00\\x81&#'\n",
      "b'\\x01\\x01\\x04\\x13'\n",
      "b'\\x80\\x00\\x07\\xb7'\n",
      "b'\\x00\\x07\\xa7\\x83'\n",
      "b'\\x00\\x17\\x87\\x13'\n",
      "b'\\x80\\x00\\x07\\xb7'\n",
      "b'\\x00\\xe7\\xa0#'\n",
      "b'\\x80\\x00\\x07\\xb7'\n",
      "b'\\x00\\x07\\xa7\\x03'\n",
      "b'>\\x80\\x07\\x93'\n",
      "b'\\x00\\xf7\\x16c'\n",
      "b'\\x80\\x00\\x07\\xb7'\n",
      "b'\\x00\\x07\\xa0#'\n",
      "b'\\x80\\x00\\x07\\xb7'\n",
      "b'\\x00\\x07\\xa7\\x83'\n",
      "b'\\xa0\\x00\\x02\\xb7'\n",
      "b'\\x00\\x12\\x82\\x93'\n",
      "b'\\x00\\xf2\\xa0#'\n",
      "b'\\x00\\x00\\x00\\x13'\n",
      "b'\\x00\\xc1$\\x03'\n",
      "b'\\x01\\x01\\x01\\x13'\n",
      "b'\\x00\\x00\\x80g'\n",
      "b'\\xfe\\x01\\x01\\x13'\n",
      "b'\\x00\\x81.#'\n",
      "b'\\x02\\x01\\x04\\x13'\n",
      "b'\\x00\\x00\\x07\\xb7'\n",
      "b'\\x07G\\x87\\x93'\n",
      "b'\\xfe\\xf4&#'\n",
      "b\"\\xfe\\xc4'\\x83\"\n",
      "b\"\\x00'\\x97\\x93\"\n",
      "b'\\xfe\\xf4&#'\n",
      "b\"\\xfe\\xc4'\\x83\"\n",
      "b'0W\\x90s'\n",
      "b\"\\x00\\x00'\\xb7\"\n",
      "b'\\x88\\x87\\x87\\x93'\n",
      "b'\\xfe\\xf4$#'\n",
      "b\"\\xfe\\x84'\\x83\"\n",
      "b'0\\x07\\x90s'\n",
      "b'\\x08\\x00\\x07\\x93'\n",
      "b'0G\\x90s'\n",
      "b'\\x02\\xfa\\xf7\\xb7'\n",
      "b'\\x08\\x07\\x87\\x93'\n",
      "b'\\x90\\x00\\x02\\xb7'\n",
      "b'\\x00\\x12\\x82\\x93'\n",
      "b'\\x00\\xf2\\xa0#'\n",
      "b'\\x00\\x10\\x07\\x93'\n",
      "b'\\x90\\x00\\x02\\xb7'\n",
      "b'\\x00\\xf2\\xa0#'\n",
      "b'\\x00\\x00\\x00\\x13'\n",
      "b'\\x01\\xc1$\\x03'\n",
      "b'\\x02\\x01\\x01\\x13'\n",
      "b'\\x00\\x00\\x80g'\n",
      "b'\\xfe\\x01\\x01\\x13'\n",
      "b'\\x00\\x11.#'\n",
      "b'\\x00\\x81,#'\n",
      "b'\\x02\\x01\\x04\\x13'\n",
      "b'\\xfe\\x04&#'\n",
      "b'\\xfe\\x04$#'\n",
      "b'\\xff\\xf0\\x07\\x93'\n",
      "b'\\xa0\\x00\\x02\\xb7'\n",
      "b'\\x00\\xf2\\xa0#'\n",
      "b'\\x00\\x00\\x17\\xb7'\n",
      "b'\\xff\\x07\\x87\\x93'\n",
      "b'\\xa0\\x00\\x02\\xb7'\n",
      "b'\\x00\\x12\\x82\\x93'\n",
      "b'\\x00\\xf2\\xa0#'\n",
      "b'\\x01\\xc0\\x07\\x93'\n",
      "b'\\xb0\\x00\\x02\\xb7'\n",
      "b'\\x00\\xf2\\xa0#'\n",
      "b'\\xf4_\\xf0\\xef'\n",
      "b\"\\xfe\\xc4'\\x03\"\n",
      "b'\\x0f\\xf0\\x07\\x93'\n",
      "b'\\x00\\xf7\\x16c'\n",
      "b'\\xfe\\x04&#'\n",
      "b'\\xff\\x1f\\xf0o'\n",
      "b\"\\xfe\\xc4'\\x83\"\n",
      "b'\\x00\\x17\\x87\\x93'\n",
      "b'\\xfe\\xf4&#'\n",
      "b\"\\xfe\\xc4'\\x83\"\n",
      "b'\\xb0\\x00\\x02\\xb7'\n",
      "b'\\x00\\x12\\x82\\x93'\n",
      "b'\\x00\\xf2\\xa0#'\n",
      "b'\\x00\\x00\\x00\\x13'\n",
      "b'\\xb0\\x00\\x02\\xb7'\n",
      "b'\\x00\\x02\\xa7\\x83'\n",
      "b'\\xfe\\xf4\"#'\n",
      "b\"\\xfeD'\\x83\"\n",
      "b'\\x02\\x07\\xf7\\x93'\n",
      "b'\\xfe\\x07\\x96\\xe3'\n",
      "b'\\xfb_\\xf0o'\n"
     ]
    }
   ],
   "source": [
    "for i in range(len(temp_lines)//4):\n",
    "    print(bytes([temp_lines[i*4+3],temp_lines[i*4+2],temp_lines[i*4+1],temp_lines[i*4+0]]))"
   ]
  },
  {
   "cell_type": "code",
   "execution_count": 48,
   "metadata": {},
   "outputs": [
    {
     "data": {
      "text/plain": [
       "b'\\xbb\\xbc\\xbd\\xbe\\xbf\\xc0\\xc1\\xc2\\xc3\\xc4\\xc5\\xc6\\xc7\\xc8\\xc9\\xca\\xcb\\xcc\\xcd\\xce\\xcf\\xd0\\xd1\\xd2\\xd3\\xd4\\xd5\\xd6\\xd7\\xd8\\xd9\\xda\\xdb\\xdc\\xdd\\xde\\xdf\\xe0\\xe1\\xe2\\xe3\\xe4\\xe5\\xe6\\xe7\\xe8\\xe9\\xea\\xeb\\xec\\xed\\xee\\xef\\xf0\\xf1\\xf2\\xf3\\xf4\\xf5\\xf6\\xf7\\xf8\\xf9\\xfa\\xfb\\xfc\\xfd\\xfe\\xff\\x01\\x02\\x03\\x04\\x05\\x06\\x07\\x08\\t\\n\\x0b\\x0c\\r\\x0e\\x0f\\x10\\x11\\x12\\x13\\x14\\x15\\x16\\x17\\x18\\x19\\x1a\\x1b\\x1c\\x1d\\x1e\\x1f'"
      ]
     },
     "execution_count": 48,
     "metadata": {},
     "output_type": "execute_result"
    }
   ],
   "source": [
    "ser.read(100)"
   ]
  },
  {
   "cell_type": "code",
   "execution_count": null,
   "metadata": {},
   "outputs": [],
   "source": [
    "93 00 93 00 22 00 13 00 00 13 40 FF 32 80 D3 00 13 A0 F9 97 80 B2 C3 7F 97 80 32 02 7F 00 13 A0 FD 62 A0 C0 AE 23 01 A2 43 93 30 E3 F9 6F 5F 7F 00 32 42 E3 F9 6F 9F 7F 00 13 40 E1 23 00 24 0A 00 23 23 23 23 23 00 02 24 0A 02 23 02 23 02 02 24 03 05 24 0A 05 23 23 23 23 23 05 07 24 0A 07 23 07 23 07 07 80 20 03 48 83 48 00 20 00 30 01 A0 83 01 01 02 83 49 02 20 02 30 03 A0 83 03 03 04 83 4A 04 20 04 30 05 A0 83 05 05 06 83 4B 06 20 06 30 07 A0 83 07 C1 20 01 23 00 02 BE A2 23 12 FE A0 FE DB 00 23 DA 00 DB 00 83 DA 00 B2 08 2C 02 DB 00 83 DA 00 A2 B7 80 3B 00 DB 00 03 DA 00 B2 01 D1 04 DB 00 23 00 C0 A0 00 03 DA 00 DB 01 B3 D7 00 D8 02 DB 00 13 23 DA 00 DB 00 87 B7 B0 B2 03 D2 00 3B 00 00 03 01 01 A0 00 13 40 FE 24 00 02 DB 00 93 D8 23 12 FE B0 FE B2 23 12 FE B0 FE 76 B7 00 B2 88 12 FE B0 FE 30 B2 08 B7 02 B2 08 00 36 82 23 93 00 B2 B7 90 93 00 00 03 01 01 A0 00 13 40 FE 24 00 02 24 F3 13 00 83 12 FE A2 FF 24 FE 3C FE 00 03 01 01 A0 00 13 40 FE 24 23 00 02 24 FE 12 FE DB 00 07 FF 3B 00 DB 00 87 13 00 3B 00 DB 00 07 23 3B 00 DB 00 87 13 B4 23 3B 00 5F 03 12 FE B2 0F 2C 00 24 FE 00 40 B0 12 FE B2 D8 23 12 FE DB 00 83 DA 13 D8 B7 80 24 3B 00 DB 00 87 03 12 FE 3B 00 DB 00 D8 12 DF BE 1F FF \n",
    "93 00 00 00 93 01 00 00 13 02 00 00 13 04 00 00 17 81 00 80 13 01 01 FF 93 02 80 37 17 03 00 80 13 03 43 FE 97 03 00 80 93 83 C3 FD 63 4E 73 00 97 02 00 80 93 82 02 FD 17 03 00 80 13 03 83 FD 63 C0 62 02 EF 00 C0 28 03 AE 02 00 23 20 C3 01 13 03 43 00 93 82 42 00 E3 48 73 FE 6F F0 5F FD 23 A0 02 00 93 82 42 00 E3 CC 62 FE 6F F0 9F FD 6F 00 00 00 13 01 41 F8 23 20 11 00 23 22 21 00 23 24 31 00 23 26 41 00 23 28 51 00 23 2A 61 00 23 2C 71 00 23 2E 81 00 23 20 91 02 23 22 A1 02 23 24 B1 02 23 26 C1 02 23 28 D1 02 23 2A E1 02 23 2C F1 02 23 2E 01 03 23 20 11 05 23 22 21 05 23 24 31 05 23 26 41 05 23 28 51 05 23 2A 61 05 23 2C 71 05 23 2E 81 05 23 20 91 07 23 22 A1 07 23 24 B1 07 23 26 C1 07 23 28 D1 07 23 2A E1 07 23 2C F1 07 EF 00 80 08 83 20 01 00 03 21 41 00 83 21 81 00 03 22 C1 00 83 22 01 01 03 23 41 01 83 23 81 01 03 24 C1 01 83 24 01 02 03 25 41 02 83 25 81 02 03 26 C1 02 83 26 01 03 03 27 41 03 83 27 81 03 03 28 C1 03 83 28 01 04 03 29 41 04 83 29 81 04 03 2A C1 04 83 2A 01 05 03 2B 41 05 83 2B 81 05 03 2C C1 05 83 2C 01 06 03 2D 41 06 83 2D 81 06 03 2E C1 06 83 2E 01 07 03 2F 41 07 83 2F 81 07 13 01 C1 07 73 00 20 30 13 01 01 FE 23 2E 81 00 13 04 01 02 F3 27 20 34 23 26 F4 FE 03 27 C4 FE B7 07 00 80 23 A4 E7 00 B7 07 00 80 83 A7 87 00 93 F7 07 08 63 8A 07 02 B7 07 00 80 83 A7 07 00 13 87 17 00 B7 07 00 80 23 A0 E7 00 B7 07 00 80 03 A7 07 00 93 07 00 01 63 14 F7 04 B7 07 00 80 23 A0 07 00 6F 00 C0 03 B7 07 00 80 03 A7 87 00 B7 07 01 00 B3 77 F7 00 63 84 07 02 B7 07 00 80 13 07 10 00 23 A6 E7 00 B7 07 00 B0 13 87 37 00 B7 07 00 B0 93 87 27 00 03 27 07 00 23 A0 E7 00 13 00 00 00 03 24 C1 01 13 01 01 02 67 80 00 00 13 01 01 FE 23 2E 81 00 13 04 01 02 B7 07 00 00 93 87 47 07 23 26 F4 FE 83 27 C4 FE 93 97 27 00 23 26 F4 FE 83 27 C4 FE 73 90 57 30 B7 27 00 00 93 87 87 88 23 24 F4 FE 83 27 84 FE 73 90 07 30 93 07 00 08 73 90 47 30 B7 F7 FA 02 93 87 07 08 B7 02 00 90 93 82 12 00 23 A0 F2 00 93 07 10 00 B7 02 00 90 23 A0 F2 00 13 00 00 00 03 24 C1 01 13 01 01 02 67 80 00 00 13 01 01 FE 23 2E 81 00 13 04 01 02 23 26 A4 FE 13 00 00 00 83 27 C4 FE 13 87 F7 FF 23 26 E4 FE E3 9A 07 FE 13 00 00 00 03 24 C1 01 13 01 01 02 67 80 00 00 13 01 01 FE 23 2E 11 00 23 2C 81 00 13 04 01 02 23 26 04 FE 23 24 04 FE B7 07 00 A0 13 07 F0 FF 23 A0 E7 00 B7 07 00 A0 93 87 17 00 13 07 F0 00 23 A0 E7 00 B7 07 00 B0 13 07 30 01 23 A0 E7 00 B7 07 00 B0 93 87 17 00 13 07 10 1B 23 A0 E7 00 EF F0 5F F0 03 27 C4 FE 93 07 F0 0F 63 D6 E7 00 23 26 04 FE 6F 00 00 01 83 27 C4 FE 93 87 17 00 23 26 F4 FE B7 07 00 80 83 A7 47 00 13 87 17 00 B7 07 00 80 23 A2 E7 00 B7 07 00 A0 93 87 17 00 03 27 C4 FE 23 A0 E7 00 B7 A7 07 00 13 85 07 12 EF F0 DF F2 6F F0 1F FB \n"
   ]
  }
 ],
 "metadata": {
  "interpreter": {
   "hash": "7252530df5bbb4c700e3d71c38fa1c36acd0a5e58df61eeab0d1be8875370edf"
  },
  "kernelspec": {
   "display_name": "Python 3.9.5 ('base')",
   "language": "python",
   "name": "python3"
  },
  "language_info": {
   "codemirror_mode": {
    "name": "ipython",
    "version": 3
   },
   "file_extension": ".py",
   "mimetype": "text/x-python",
   "name": "python",
   "nbconvert_exporter": "python",
   "pygments_lexer": "ipython3",
   "version": "3.9.5"
  },
  "orig_nbformat": 4
 },
 "nbformat": 4,
 "nbformat_minor": 2
}
